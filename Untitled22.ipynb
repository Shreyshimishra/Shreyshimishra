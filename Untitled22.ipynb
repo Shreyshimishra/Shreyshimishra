{
  "nbformat": 4,
  "nbformat_minor": 0,
  "metadata": {
    "colab": {
      "name": "Untitled22.ipynb",
      "provenance": [],
      "collapsed_sections": [],
      "authorship_tag": "ABX9TyOfu4rzXxcoYW1EuzsFKz6y",
      "include_colab_link": true
    },
    "kernelspec": {
      "name": "python3",
      "display_name": "Python 3"
    },
    "language_info": {
      "name": "python"
    }
  },
  "cells": [
    {
      "cell_type": "markdown",
      "metadata": {
        "id": "view-in-github",
        "colab_type": "text"
      },
      "source": [
        "<a href=\"https://colab.research.google.com/github/Shreyshimishra/Shreyshimishra/blob/main/Untitled22.ipynb\" target=\"_parent\"><img src=\"https://colab.research.google.com/assets/colab-badge.svg\" alt=\"Open In Colab\"/></a>"
      ]
    },
    {
      "cell_type": "code",
      "metadata": {
        "colab": {
          "base_uri": "https://localhost:8080/"
        },
        "id": "SCJuwmssuH5P",
        "outputId": "c1e4ac31-a84d-4631-fda5-ffee52374ccd"
      },
      "source": [
        "num = 35\n",
        "for i in range(1,11):\n",
        "  print(num,'x',i,'=',num*i)"
      ],
      "execution_count": 2,
      "outputs": [
        {
          "output_type": "stream",
          "name": "stdout",
          "text": [
            "35 x 1 = 35\n",
            "35 x 2 = 70\n",
            "35 x 3 = 105\n",
            "35 x 4 = 140\n",
            "35 x 5 = 175\n",
            "35 x 6 = 210\n",
            "35 x 7 = 245\n",
            "35 x 8 = 280\n",
            "35 x 9 = 315\n",
            "35 x 10 = 350\n"
          ]
        }
      ]
    }
  ]
}