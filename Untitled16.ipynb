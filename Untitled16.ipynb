{
  "nbformat": 4,
  "nbformat_minor": 0,
  "metadata": {
    "colab": {
      "name": "Untitled16.ipynb",
      "provenance": [],
      "collapsed_sections": [],
      "authorship_tag": "ABX9TyPAtGv5ZVAn5CSdCGfPoBhS",
      "include_colab_link": true
    },
    "kernelspec": {
      "name": "python3",
      "display_name": "Python 3"
    },
    "language_info": {
      "name": "python"
    }
  },
  "cells": [
    {
      "cell_type": "markdown",
      "metadata": {
        "id": "view-in-github",
        "colab_type": "text"
      },
      "source": [
        "<a href=\"https://colab.research.google.com/github/Shreyshimishra/Shreyshimishra/blob/main/Untitled16.ipynb\" target=\"_parent\"><img src=\"https://colab.research.google.com/assets/colab-badge.svg\" alt=\"Open In Colab\"/></a>"
      ]
    },
    {
      "cell_type": "code",
      "metadata": {
        "colab": {
          "base_uri": "https://localhost:8080/"
        },
        "id": "3aKvef3R7wRJ",
        "outputId": "992c15f9-f7cd-4a0e-cca9-9a6a05c0626a"
      },
      "source": [
        "year = 2000\n",
        "if(year % 4) == 0:\n",
        "  if(year % 100) == 0:\n",
        "    if(year % 400) == 0:\n",
        "      print('{0} is a leap year'.format(year))\n",
        "    else:\n",
        "        print(\"{0} is not a leap year\".format (year))\n",
        "  else:\n",
        "    print(\"{0} is a leap year\".format (year))\n",
        "else:\n",
        "    print(\"{0} is not a leap year\".format(year))  "
      ],
      "execution_count": 14,
      "outputs": [
        {
          "output_type": "stream",
          "name": "stdout",
          "text": [
            "2000 is a leap year\n"
          ]
        }
      ]
    }
  ]
}