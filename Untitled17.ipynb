{
  "nbformat": 4,
  "nbformat_minor": 0,
  "metadata": {
    "colab": {
      "name": "Untitled17.ipynb",
      "provenance": [],
      "collapsed_sections": [],
      "authorship_tag": "ABX9TyMgr1iGAl0spw6Y2rTWscB4",
      "include_colab_link": true
    },
    "kernelspec": {
      "name": "python3",
      "display_name": "Python 3"
    },
    "language_info": {
      "name": "python"
    }
  },
  "cells": [
    {
      "cell_type": "markdown",
      "metadata": {
        "id": "view-in-github",
        "colab_type": "text"
      },
      "source": [
        "<a href=\"https://colab.research.google.com/github/Shreyshimishra/Shreyshimishra/blob/main/Untitled17.ipynb\" target=\"_parent\"><img src=\"https://colab.research.google.com/assets/colab-badge.svg\" alt=\"Open In Colab\"/></a>"
      ]
    },
    {
      "cell_type": "code",
      "metadata": {
        "colab": {
          "base_uri": "https://localhost:8080/"
        },
        "id": "rBBxRPDXBW-d",
        "outputId": "14a3064e-14da-4a14-f0ab-a558ee1ad200"
      },
      "source": [
        "num1 = float(input(\"enter first number\"))\n",
        "num2 = float(input(\"enter second number\"))\n",
        "num3 = float(input(\"enter third number\"))\n",
        "if(num1 > num2) and (num1 > num3):\n",
        "  largest = num1\n",
        "elif(num2 > num1) and (num2 > num3):\n",
        "   largest = num2\n",
        "else:\n",
        "     largest =num3\n",
        "     print(\"the largest number is\", largest)"
      ],
      "execution_count": 2,
      "outputs": [
        {
          "output_type": "stream",
          "name": "stdout",
          "text": [
            "enter first number21\n",
            "enter second number65\n",
            "enter third number89\n",
            "the largest number is 89.0\n"
          ]
        }
      ]
    }
  ]
}