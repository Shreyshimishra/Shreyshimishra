{
  "nbformat": 4,
  "nbformat_minor": 0,
  "metadata": {
    "colab": {
      "name": "Untitled15.ipynb",
      "provenance": [],
      "collapsed_sections": [],
      "authorship_tag": "ABX9TyOTUiq+NhBSwMcy54BsE5jt",
      "include_colab_link": true
    },
    "kernelspec": {
      "name": "python3",
      "display_name": "Python 3"
    },
    "language_info": {
      "name": "python"
    }
  },
  "cells": [
    {
      "cell_type": "markdown",
      "metadata": {
        "id": "view-in-github",
        "colab_type": "text"
      },
      "source": [
        "<a href=\"https://colab.research.google.com/github/Shreyshimishra/Shreyshimishra/blob/main/Untitled15.ipynb\" target=\"_parent\"><img src=\"https://colab.research.google.com/assets/colab-badge.svg\" alt=\"Open In Colab\"/></a>"
      ]
    },
    {
      "cell_type": "code",
      "metadata": {
        "colab": {
          "base_uri": "https://localhost:8080/"
        },
        "id": "Y3O4J5tJ5YNb",
        "outputId": "7ac9865b-8949-4310-cec7-de7956d14915"
      },
      "source": [
        "num =int(input(\"enter a number:\"))\n",
        "if(num%2) == 0:\n",
        "  print(\"({0} is even number\".format(num))\n",
        "else:\n",
        "    print(\"{0} is odd number\".format (num))"
      ],
      "execution_count": 2,
      "outputs": [
        {
          "output_type": "stream",
          "name": "stdout",
          "text": [
            "enter a number:21\n",
            "21 is odd number\n"
          ]
        }
      ]
    }
  ]
}